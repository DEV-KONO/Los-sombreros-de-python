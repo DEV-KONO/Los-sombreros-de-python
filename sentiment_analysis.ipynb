{
 "cells": [
  {
   "cell_type": "markdown",
   "metadata": {},
   "source": [
    "Importar librerias"
   ]
  },
  {
   "cell_type": "code",
   "execution_count": 4,
   "metadata": {},
   "outputs": [
    {
     "name": "stderr",
     "output_type": "stream",
     "text": [
      "[nltk_data] Downloading package stopwords to\n",
      "[nltk_data]     C:\\Users\\HP\\AppData\\Roaming\\nltk_data...\n",
      "[nltk_data]   Package stopwords is already up-to-date!\n"
     ]
    }
   ],
   "source": [
    "import csv\n",
    "import numpy as np\n",
    "import pandas as pd\n",
    "import matplotlib.pyplot as plt\n",
    "import seaborn as sns\n",
    "import nltk\n",
    "import emoji\n",
    "import flet\n",
    "from nltk.stem.porter import PorterStemmer\n",
    "nltk.download('stopwords')\n",
    "from nltk.corpus import stopwords\n",
    "STOPWORDS = set(stopwords.words('english'))\n",
    "\n",
    "from sklearn.model_selection import train_test_split\n",
    "from sklearn.preprocessing import MinMaxScaler\n",
    "from sklearn.feature_extraction.text import CountVectorizer\n",
    "from sklearn.model_selection import cross_val_score\n",
    "from sklearn.ensemble import RandomForestClassifier\n",
    "from sklearn.metrics import confusion_matrix, ConfusionMatrixDisplay\n",
    "from sklearn.model_selection import GridSearchCV\n",
    "from sklearn.model_selection import StratifiedKFold\n",
    "from sklearn.metrics import accuracy_score\n",
    "from wordcloud import WordCloud\n",
    "from sklearn.tree import DecisionTreeClassifier\n",
    "from xgboost import XGBClassifier\n",
    "import pickle\n",
    "import re\n"
   ]
  },
  {
   "cell_type": "markdown",
   "metadata": {},
   "source": [
    "Transformar emojis a texto"
   ]
  },
  {
   "cell_type": "code",
   "execution_count": 12,
   "metadata": {},
   "outputs": [
    {
     "name": "stderr",
     "output_type": "stream",
     "text": [
      "<>:1: SyntaxWarning: invalid escape sequence '\\D'\n",
      "<>:1: SyntaxWarning: invalid escape sequence '\\D'\n",
      "C:\\Users\\HP\\AppData\\Local\\Temp\\ipykernel_3284\\3935585777.py:1: SyntaxWarning: invalid escape sequence '\\D'\n",
      "  data = pd.read_csv('data\\Datathon 2024 - Reto Hey - Dataset Puìblico - Sheet1.csv')\n"
     ]
    },
    {
     "data": {
      "text/html": [
       "<div>\n",
       "<style scoped>\n",
       "    .dataframe tbody tr th:only-of-type {\n",
       "        vertical-align: middle;\n",
       "    }\n",
       "\n",
       "    .dataframe tbody tr th {\n",
       "        vertical-align: top;\n",
       "    }\n",
       "\n",
       "    .dataframe thead th {\n",
       "        text-align: right;\n",
       "    }\n",
       "</style>\n",
       "<table border=\"1\" class=\"dataframe\">\n",
       "  <thead>\n",
       "    <tr style=\"text-align: right;\">\n",
       "      <th></th>\n",
       "      <th>date</th>\n",
       "      <th>time</th>\n",
       "      <th>tweet</th>\n",
       "    </tr>\n",
       "  </thead>\n",
       "  <tbody>\n",
       "    <tr>\n",
       "      <th>0</th>\n",
       "      <td>01/01/2023</td>\n",
       "      <td>NaN</td>\n",
       "      <td>Resuelto, muchísimas gracias , excelente servi...</td>\n",
       "    </tr>\n",
       "    <tr>\n",
       "      <th>1</th>\n",
       "      <td>02/01/2023</td>\n",
       "      <td>NaN</td>\n",
       "      <td>Muchas gracias, espero su dm</td>\n",
       "    </tr>\n",
       "    <tr>\n",
       "      <th>2</th>\n",
       "      <td>02/01/2023</td>\n",
       "      <td>NaN</td>\n",
       "      <td>Muchas gracias!</td>\n",
       "    </tr>\n",
       "    <tr>\n",
       "      <th>3</th>\n",
       "      <td>02/01/2023</td>\n",
       "      <td>NaN</td>\n",
       "      <td>Algo similar me paso. Quería renovar mi token ...</td>\n",
       "    </tr>\n",
       "    <tr>\n",
       "      <th>4</th>\n",
       "      <td>02/01/2023</td>\n",
       "      <td>NaN</td>\n",
       "      <td>Yeeeei! a través de mi cuenta en acabo de cont...</td>\n",
       "    </tr>\n",
       "    <tr>\n",
       "      <th>...</th>\n",
       "      <td>...</td>\n",
       "      <td>...</td>\n",
       "      <td>...</td>\n",
       "    </tr>\n",
       "    <tr>\n",
       "      <th>807</th>\n",
       "      <td>21/04/2024</td>\n",
       "      <td>15:21:43</td>\n",
       "      <td>Ahora confirmo, gracias estimado</td>\n",
       "    </tr>\n",
       "    <tr>\n",
       "      <th>808</th>\n",
       "      <td>23/04/2024</td>\n",
       "      <td>22:52:05</td>\n",
       "      <td>:pensive_face: de acuerdo!! Muchas gracias.</td>\n",
       "    </tr>\n",
       "    <tr>\n",
       "      <th>809</th>\n",
       "      <td>23/04/2024</td>\n",
       "      <td>21:30:12</td>\n",
       "      <td>Tío cuando me van a graduar, tengo la TDC gara...</td>\n",
       "    </tr>\n",
       "    <tr>\n",
       "      <th>810</th>\n",
       "      <td>25/04/2024</td>\n",
       "      <td>00:51:24</td>\n",
       "      <td>una duda, con quién tengo que ver si tengo pro...</td>\n",
       "    </tr>\n",
       "    <tr>\n",
       "      <th>811</th>\n",
       "      <td>26/04/2024</td>\n",
       "      <td>13:30:56</td>\n",
       "      <td>Wey, lo mejor de es que puedo pagar con Apple ...</td>\n",
       "    </tr>\n",
       "  </tbody>\n",
       "</table>\n",
       "<p>812 rows × 3 columns</p>\n",
       "</div>"
      ],
      "text/plain": [
       "           date      time                                              tweet\n",
       "0    01/01/2023       NaN  Resuelto, muchísimas gracias , excelente servi...\n",
       "1    02/01/2023       NaN                       Muchas gracias, espero su dm\n",
       "2    02/01/2023       NaN                                    Muchas gracias!\n",
       "3    02/01/2023       NaN  Algo similar me paso. Quería renovar mi token ...\n",
       "4    02/01/2023       NaN  Yeeeei! a través de mi cuenta en acabo de cont...\n",
       "..          ...       ...                                                ...\n",
       "807  21/04/2024  15:21:43                   Ahora confirmo, gracias estimado\n",
       "808  23/04/2024  22:52:05        :pensive_face: de acuerdo!! Muchas gracias.\n",
       "809  23/04/2024  21:30:12  Tío cuando me van a graduar, tengo la TDC gara...\n",
       "810  25/04/2024  00:51:24  una duda, con quién tengo que ver si tengo pro...\n",
       "811  26/04/2024  13:30:56  Wey, lo mejor de es que puedo pagar con Apple ...\n",
       "\n",
       "[812 rows x 3 columns]"
      ]
     },
     "execution_count": 12,
     "metadata": {},
     "output_type": "execute_result"
    }
   ],
   "source": [
    "data = pd.read_csv('data\\Datathon 2024 - Reto Hey - Dataset Puìblico - Sheet1.csv')\n",
    "\n",
    "demojized_Data = data\n",
    "\n",
    "for i in range(0, len(data)):\n",
    "    demojized_Data.iloc[i,2] = emoji.demojize(str(demojized_Data.iloc[i,2]))\n",
    "\n",
    "demojized_Data"
   ]
  }
 ],
 "metadata": {
  "kernelspec": {
   "display_name": "Python 3",
   "language": "python",
   "name": "python3"
  },
  "language_info": {
   "codemirror_mode": {
    "name": "ipython",
    "version": 3
   },
   "file_extension": ".py",
   "mimetype": "text/x-python",
   "name": "python",
   "nbconvert_exporter": "python",
   "pygments_lexer": "ipython3",
   "version": "3.12.2"
  }
 },
 "nbformat": 4,
 "nbformat_minor": 2
}
